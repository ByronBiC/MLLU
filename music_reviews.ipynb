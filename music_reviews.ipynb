{
  "cells": [
    {
      "cell_type": "code",
      "source": [
        "import re\n",
        "import json\n",
        "import time\n",
        "import requests\n",
        "import os.path\n",
        "import warnings"
      ],
      "metadata": {
        "id": "2chIF3XhCwA7"
      },
      "execution_count": 1,
      "outputs": []
    },
    {
      "cell_type": "markdown",
      "metadata": {
        "id": "kX6xU4Bwm9ha"
      },
      "source": [
        "### Preprocessing"
      ]
    },
    {
      "cell_type": "code",
      "source": [
        "!pip install jieba_fast\n",
        "!pip install emoji"
      ],
      "metadata": {
        "colab": {
          "base_uri": "https://localhost:8080/"
        },
        "id": "OM25GzKQpqb6",
        "outputId": "e91e4eff-bf29-47e5-b356-1e7be664eb42"
      },
      "execution_count": 2,
      "outputs": [
        {
          "output_type": "stream",
          "name": "stdout",
          "text": [
            "Collecting jieba_fast\n",
            "  Downloading jieba_fast-0.53.tar.gz (7.5 MB)\n",
            "\u001b[K     |████████████████████████████████| 7.5 MB 7.9 MB/s \n",
            "\u001b[?25hBuilding wheels for collected packages: jieba-fast\n",
            "  Building wheel for jieba-fast (setup.py) ... \u001b[?25l\u001b[?25hdone\n",
            "  Created wheel for jieba-fast: filename=jieba_fast-0.53-cp37-cp37m-linux_x86_64.whl size=7658320 sha256=6c3c0585e20022be004abd1a0ccf8e9ce441b4ea55495cf15fb330b411637e95\n",
            "  Stored in directory: /root/.cache/pip/wheels/40/87/79/51f40efba790e648b37d3f3a7c03fe0b2c93973d9ed0076bae\n",
            "Successfully built jieba-fast\n",
            "Installing collected packages: jieba-fast\n",
            "Successfully installed jieba-fast-0.53\n",
            "Collecting emoji\n",
            "  Downloading emoji-1.7.0.tar.gz (175 kB)\n",
            "\u001b[K     |████████████████████████████████| 175 kB 4.7 MB/s \n",
            "\u001b[?25hBuilding wheels for collected packages: emoji\n",
            "  Building wheel for emoji (setup.py) ... \u001b[?25l\u001b[?25hdone\n",
            "  Created wheel for emoji: filename=emoji-1.7.0-py3-none-any.whl size=171046 sha256=9b4e6cf2f06eacc2f5bfb65221ff57ef8dc50896ff102f87107af3254ceab9ee\n",
            "  Stored in directory: /root/.cache/pip/wheels/8a/4e/b6/57b01db010d17ef6ea9b40300af725ef3e210cb1acfb7ac8b6\n",
            "Successfully built emoji\n",
            "Installing collected packages: emoji\n",
            "Successfully installed emoji-1.7.0\n"
          ]
        }
      ]
    },
    {
      "cell_type": "code",
      "execution_count": 3,
      "metadata": {
        "id": "JVg74OyAm9ha"
      },
      "outputs": [],
      "source": [
        "import jieba_fast\n",
        "import pandas as pd\n",
        "import re\n",
        "import emoji"
      ]
    },
    {
      "cell_type": "code",
      "execution_count": 5,
      "metadata": {
        "code_folding": [
          2
        ],
        "colab": {
          "base_uri": "https://localhost:8080/"
        },
        "id": "GF55Wd93m9ha",
        "outputId": "d120e331-97ea-427c-9d20-275ff9e51a01"
      },
      "outputs": [
        {
          "output_type": "execute_result",
          "data": {
            "text/plain": [
              "31722"
            ]
          },
          "metadata": {},
          "execution_count": 5
        }
      ],
      "source": [
        "#load data by mongodb\n",
        "# comms = []\n",
        "# for item  in music_db.find():\n",
        "#     comms.append(item)\n",
        "    \n",
        "# len(comms)\n",
        "#load data by json\n",
        "\n",
        "with open('datasets.json','r', encoding='utf-8') as f:\n",
        "    comms = json.loads(f.read())\n",
        "\n",
        "    \n",
        "len(comms)"
      ]
    },
    {
      "cell_type": "code",
      "execution_count": 6,
      "metadata": {
        "id": "jR9d3nfum9hb"
      },
      "outputs": [],
      "source": [
        "# save to json\n",
        "#with open('datasets.json','w',encoding='utf-8') as w:\n",
        "#    w.write(json.dumps(comms,ensure_ascii=False))\n",
        "    "
      ]
    },
    {
      "cell_type": "code",
      "execution_count": 7,
      "metadata": {
        "colab": {
          "base_uri": "https://localhost:8080/",
          "height": 641
        },
        "id": "-BPjHDPYm9hb",
        "outputId": "8ef87f4d-9b11-4932-9002-fe3f173eb846"
      },
      "outputs": [
        {
          "output_type": "execute_result",
          "data": {
            "text/plain": [
              "                                                     _id     nike  \\\n",
              "0      1!PeUgh6.tYeG1pnsFPaL4RxV8qkil0qUWuMdjDoNh1l.p...   性格决定命运   \n",
              "1         1!L3BkyxeMbghZ3vfKIPYB9EhtdxcCT-oHYPumB3wpaUE*      半心~   \n",
              "2         1!tw8vlS87r7gnvU3Y7Zs4UpqL0rke2pViLn6tNAHtJvE*      失爱！   \n",
              "3      1!8PUpWiGR9.m7sx0hW3xQT5phubZyaiBrtBs8lGMVmgZT...       南一   \n",
              "4      1!PeUgh6.tYeG1pnsFPaL4R0s3VbEVL2tuwIEjAJlj2a6V...            \n",
              "...                                                  ...      ...   \n",
              "31717  1!wQ0GvmNhQkbhHzUanYqnVw3Sn7ZsJ2FGzCQLvmabQnq....      茗千.   \n",
              "31718  1!8GfUcY9CJj3M-I99cTUB5gamh3R355q-fwYIJL9tOBpo...    也Yeah   \n",
              "31719  1!8GfUcY9CJj3M-I99cTUB5mtDa0N6SxiGcPunhLNpr3Ua...    斗鱼肯德鸭   \n",
              "31720  1!8GfUcY9CJj3M-I99cTUB5uNEo6grzE0c.W7gv2Ib91QI...      神仙.   \n",
              "31721  1!wQ0GvmNhQkbhHzUanYqnV.6qwiD9vThk.tC.IB2Qn3Td...  改名姓名已被占   \n",
              "\n",
              "                                                 comment  praisenum  \\\n",
              "0      我特别喜欢这首歌，我现在12岁了，基本每天都听[em]e400408[/em][em]e40...       1650   \n",
              "1      最近孩子睡前的歌来自我的第一个追星偶像范晓萱小魔女时代的歌曲，当时五六年级的我每一首歌词每一...        830   \n",
              "2      有多少人和我一样做什么事时脑子里是有默认音乐伴奏的～～比如一个人逛街就自动回响起林忆莲的站在...        606   \n",
              "3      室友洗澡太慢了，我每次都是拿一个蓝牙音箱发门口发这个歌，从此以后他洗澡好快的[em]e400...        589   \n",
              "4      好好听，我从小不爱洗澡，听了这首歌，我就爱上洗澡了，[em]e400832[/em][em]...        492   \n",
              "...                                                  ...        ...   \n",
              "31717                        追凌！追凌！追凌！听着听着姨母笑，诶嘿嘿(๑´ㅂ`๑)         18   \n",
              "31718                                      发现了好家伙这变声器真不错         18   \n",
              "31719      大班听的歌，现在已经初一了[em]e400101[/em][em]e400408[/em]         19   \n",
              "31720  从光热大法来的！！！这个坑是出不去了！！甜死我了！！！[em]e400831[/em][em...         17   \n",
              "31721  光热大旗永不倒[em]e400420[/em][em]e400420[/em][em]e40...         16   \n",
              "\n",
              "                      time m_name  tag      topid  \n",
              "0      2016-07-16 21:17:25   我爱洗澡  pos     451197  \n",
              "1      1971-05-27 08:08:03   我爱洗澡  pos     451197  \n",
              "2      1971-05-27 08:13:54   我爱洗澡  pos     451197  \n",
              "3      2017-12-30 23:39:55   我爱洗澡  pos     451197  \n",
              "4      2016-06-17 22:26:01   我爱洗澡  pos     451197  \n",
              "...                    ...    ...  ...        ...  \n",
              "31717  2018-07-31 10:47:48    爱啦啦  pos  102076884  \n",
              "31718  2021-02-25 23:00:55    爱啦啦  pos  102076884  \n",
              "31719  2021-09-22 19:50:17    爱啦啦  pos  102076884  \n",
              "31720  2020-03-01 16:28:57    爱啦啦  pos  102076884  \n",
              "31721  2020-03-24 16:14:06    爱啦啦  pos  102076884  \n",
              "\n",
              "[31722 rows x 8 columns]"
            ],
            "text/html": [
              "\n",
              "  <div id=\"df-8dfaf13b-21ec-4339-bed6-e8383f01d468\">\n",
              "    <div class=\"colab-df-container\">\n",
              "      <div>\n",
              "<style scoped>\n",
              "    .dataframe tbody tr th:only-of-type {\n",
              "        vertical-align: middle;\n",
              "    }\n",
              "\n",
              "    .dataframe tbody tr th {\n",
              "        vertical-align: top;\n",
              "    }\n",
              "\n",
              "    .dataframe thead th {\n",
              "        text-align: right;\n",
              "    }\n",
              "</style>\n",
              "<table border=\"1\" class=\"dataframe\">\n",
              "  <thead>\n",
              "    <tr style=\"text-align: right;\">\n",
              "      <th></th>\n",
              "      <th>_id</th>\n",
              "      <th>nike</th>\n",
              "      <th>comment</th>\n",
              "      <th>praisenum</th>\n",
              "      <th>time</th>\n",
              "      <th>m_name</th>\n",
              "      <th>tag</th>\n",
              "      <th>topid</th>\n",
              "    </tr>\n",
              "  </thead>\n",
              "  <tbody>\n",
              "    <tr>\n",
              "      <th>0</th>\n",
              "      <td>1!PeUgh6.tYeG1pnsFPaL4RxV8qkil0qUWuMdjDoNh1l.p...</td>\n",
              "      <td>性格决定命运</td>\n",
              "      <td>我特别喜欢这首歌，我现在12岁了，基本每天都听[em]e400408[/em][em]e40...</td>\n",
              "      <td>1650</td>\n",
              "      <td>2016-07-16 21:17:25</td>\n",
              "      <td>我爱洗澡</td>\n",
              "      <td>pos</td>\n",
              "      <td>451197</td>\n",
              "    </tr>\n",
              "    <tr>\n",
              "      <th>1</th>\n",
              "      <td>1!L3BkyxeMbghZ3vfKIPYB9EhtdxcCT-oHYPumB3wpaUE*</td>\n",
              "      <td>半心~</td>\n",
              "      <td>最近孩子睡前的歌来自我的第一个追星偶像范晓萱小魔女时代的歌曲，当时五六年级的我每一首歌词每一...</td>\n",
              "      <td>830</td>\n",
              "      <td>1971-05-27 08:08:03</td>\n",
              "      <td>我爱洗澡</td>\n",
              "      <td>pos</td>\n",
              "      <td>451197</td>\n",
              "    </tr>\n",
              "    <tr>\n",
              "      <th>2</th>\n",
              "      <td>1!tw8vlS87r7gnvU3Y7Zs4UpqL0rke2pViLn6tNAHtJvE*</td>\n",
              "      <td>失爱！</td>\n",
              "      <td>有多少人和我一样做什么事时脑子里是有默认音乐伴奏的～～比如一个人逛街就自动回响起林忆莲的站在...</td>\n",
              "      <td>606</td>\n",
              "      <td>1971-05-27 08:13:54</td>\n",
              "      <td>我爱洗澡</td>\n",
              "      <td>pos</td>\n",
              "      <td>451197</td>\n",
              "    </tr>\n",
              "    <tr>\n",
              "      <th>3</th>\n",
              "      <td>1!8PUpWiGR9.m7sx0hW3xQT5phubZyaiBrtBs8lGMVmgZT...</td>\n",
              "      <td>南一</td>\n",
              "      <td>室友洗澡太慢了，我每次都是拿一个蓝牙音箱发门口发这个歌，从此以后他洗澡好快的[em]e400...</td>\n",
              "      <td>589</td>\n",
              "      <td>2017-12-30 23:39:55</td>\n",
              "      <td>我爱洗澡</td>\n",
              "      <td>pos</td>\n",
              "      <td>451197</td>\n",
              "    </tr>\n",
              "    <tr>\n",
              "      <th>4</th>\n",
              "      <td>1!PeUgh6.tYeG1pnsFPaL4R0s3VbEVL2tuwIEjAJlj2a6V...</td>\n",
              "      <td></td>\n",
              "      <td>好好听，我从小不爱洗澡，听了这首歌，我就爱上洗澡了，[em]e400832[/em][em]...</td>\n",
              "      <td>492</td>\n",
              "      <td>2016-06-17 22:26:01</td>\n",
              "      <td>我爱洗澡</td>\n",
              "      <td>pos</td>\n",
              "      <td>451197</td>\n",
              "    </tr>\n",
              "    <tr>\n",
              "      <th>...</th>\n",
              "      <td>...</td>\n",
              "      <td>...</td>\n",
              "      <td>...</td>\n",
              "      <td>...</td>\n",
              "      <td>...</td>\n",
              "      <td>...</td>\n",
              "      <td>...</td>\n",
              "      <td>...</td>\n",
              "    </tr>\n",
              "    <tr>\n",
              "      <th>31717</th>\n",
              "      <td>1!wQ0GvmNhQkbhHzUanYqnVw3Sn7ZsJ2FGzCQLvmabQnq....</td>\n",
              "      <td>茗千.</td>\n",
              "      <td>追凌！追凌！追凌！听着听着姨母笑，诶嘿嘿(๑´ㅂ`๑)</td>\n",
              "      <td>18</td>\n",
              "      <td>2018-07-31 10:47:48</td>\n",
              "      <td>爱啦啦</td>\n",
              "      <td>pos</td>\n",
              "      <td>102076884</td>\n",
              "    </tr>\n",
              "    <tr>\n",
              "      <th>31718</th>\n",
              "      <td>1!8GfUcY9CJj3M-I99cTUB5gamh3R355q-fwYIJL9tOBpo...</td>\n",
              "      <td>也Yeah</td>\n",
              "      <td>发现了好家伙这变声器真不错</td>\n",
              "      <td>18</td>\n",
              "      <td>2021-02-25 23:00:55</td>\n",
              "      <td>爱啦啦</td>\n",
              "      <td>pos</td>\n",
              "      <td>102076884</td>\n",
              "    </tr>\n",
              "    <tr>\n",
              "      <th>31719</th>\n",
              "      <td>1!8GfUcY9CJj3M-I99cTUB5mtDa0N6SxiGcPunhLNpr3Ua...</td>\n",
              "      <td>斗鱼肯德鸭</td>\n",
              "      <td>大班听的歌，现在已经初一了[em]e400101[/em][em]e400408[/em]</td>\n",
              "      <td>19</td>\n",
              "      <td>2021-09-22 19:50:17</td>\n",
              "      <td>爱啦啦</td>\n",
              "      <td>pos</td>\n",
              "      <td>102076884</td>\n",
              "    </tr>\n",
              "    <tr>\n",
              "      <th>31720</th>\n",
              "      <td>1!8GfUcY9CJj3M-I99cTUB5uNEo6grzE0c.W7gv2Ib91QI...</td>\n",
              "      <td>神仙.</td>\n",
              "      <td>从光热大法来的！！！这个坑是出不去了！！甜死我了！！！[em]e400831[/em][em...</td>\n",
              "      <td>17</td>\n",
              "      <td>2020-03-01 16:28:57</td>\n",
              "      <td>爱啦啦</td>\n",
              "      <td>pos</td>\n",
              "      <td>102076884</td>\n",
              "    </tr>\n",
              "    <tr>\n",
              "      <th>31721</th>\n",
              "      <td>1!wQ0GvmNhQkbhHzUanYqnV.6qwiD9vThk.tC.IB2Qn3Td...</td>\n",
              "      <td>改名姓名已被占</td>\n",
              "      <td>光热大旗永不倒[em]e400420[/em][em]e400420[/em][em]e40...</td>\n",
              "      <td>16</td>\n",
              "      <td>2020-03-24 16:14:06</td>\n",
              "      <td>爱啦啦</td>\n",
              "      <td>pos</td>\n",
              "      <td>102076884</td>\n",
              "    </tr>\n",
              "  </tbody>\n",
              "</table>\n",
              "<p>31722 rows × 8 columns</p>\n",
              "</div>\n",
              "      <button class=\"colab-df-convert\" onclick=\"convertToInteractive('df-8dfaf13b-21ec-4339-bed6-e8383f01d468')\"\n",
              "              title=\"Convert this dataframe to an interactive table.\"\n",
              "              style=\"display:none;\">\n",
              "        \n",
              "  <svg xmlns=\"http://www.w3.org/2000/svg\" height=\"24px\"viewBox=\"0 0 24 24\"\n",
              "       width=\"24px\">\n",
              "    <path d=\"M0 0h24v24H0V0z\" fill=\"none\"/>\n",
              "    <path d=\"M18.56 5.44l.94 2.06.94-2.06 2.06-.94-2.06-.94-.94-2.06-.94 2.06-2.06.94zm-11 1L8.5 8.5l.94-2.06 2.06-.94-2.06-.94L8.5 2.5l-.94 2.06-2.06.94zm10 10l.94 2.06.94-2.06 2.06-.94-2.06-.94-.94-2.06-.94 2.06-2.06.94z\"/><path d=\"M17.41 7.96l-1.37-1.37c-.4-.4-.92-.59-1.43-.59-.52 0-1.04.2-1.43.59L10.3 9.45l-7.72 7.72c-.78.78-.78 2.05 0 2.83L4 21.41c.39.39.9.59 1.41.59.51 0 1.02-.2 1.41-.59l7.78-7.78 2.81-2.81c.8-.78.8-2.07 0-2.86zM5.41 20L4 18.59l7.72-7.72 1.47 1.35L5.41 20z\"/>\n",
              "  </svg>\n",
              "      </button>\n",
              "      \n",
              "  <style>\n",
              "    .colab-df-container {\n",
              "      display:flex;\n",
              "      flex-wrap:wrap;\n",
              "      gap: 12px;\n",
              "    }\n",
              "\n",
              "    .colab-df-convert {\n",
              "      background-color: #E8F0FE;\n",
              "      border: none;\n",
              "      border-radius: 50%;\n",
              "      cursor: pointer;\n",
              "      display: none;\n",
              "      fill: #1967D2;\n",
              "      height: 32px;\n",
              "      padding: 0 0 0 0;\n",
              "      width: 32px;\n",
              "    }\n",
              "\n",
              "    .colab-df-convert:hover {\n",
              "      background-color: #E2EBFA;\n",
              "      box-shadow: 0px 1px 2px rgba(60, 64, 67, 0.3), 0px 1px 3px 1px rgba(60, 64, 67, 0.15);\n",
              "      fill: #174EA6;\n",
              "    }\n",
              "\n",
              "    [theme=dark] .colab-df-convert {\n",
              "      background-color: #3B4455;\n",
              "      fill: #D2E3FC;\n",
              "    }\n",
              "\n",
              "    [theme=dark] .colab-df-convert:hover {\n",
              "      background-color: #434B5C;\n",
              "      box-shadow: 0px 1px 3px 1px rgba(0, 0, 0, 0.15);\n",
              "      filter: drop-shadow(0px 1px 2px rgba(0, 0, 0, 0.3));\n",
              "      fill: #FFFFFF;\n",
              "    }\n",
              "  </style>\n",
              "\n",
              "      <script>\n",
              "        const buttonEl =\n",
              "          document.querySelector('#df-8dfaf13b-21ec-4339-bed6-e8383f01d468 button.colab-df-convert');\n",
              "        buttonEl.style.display =\n",
              "          google.colab.kernel.accessAllowed ? 'block' : 'none';\n",
              "\n",
              "        async function convertToInteractive(key) {\n",
              "          const element = document.querySelector('#df-8dfaf13b-21ec-4339-bed6-e8383f01d468');\n",
              "          const dataTable =\n",
              "            await google.colab.kernel.invokeFunction('convertToInteractive',\n",
              "                                                     [key], {});\n",
              "          if (!dataTable) return;\n",
              "\n",
              "          const docLinkHtml = 'Like what you see? Visit the ' +\n",
              "            '<a target=\"_blank\" href=https://colab.research.google.com/notebooks/data_table.ipynb>data table notebook</a>'\n",
              "            + ' to learn more about interactive tables.';\n",
              "          element.innerHTML = '';\n",
              "          dataTable['output_type'] = 'display_data';\n",
              "          await google.colab.output.renderOutput(dataTable, element);\n",
              "          const docLink = document.createElement('div');\n",
              "          docLink.innerHTML = docLinkHtml;\n",
              "          element.appendChild(docLink);\n",
              "        }\n",
              "      </script>\n",
              "    </div>\n",
              "  </div>\n",
              "  "
            ]
          },
          "metadata": {},
          "execution_count": 7
        }
      ],
      "source": [
        "# to DataFrame\n",
        "df = pd.json_normalize(comms)\n",
        "df"
      ]
    },
    {
      "cell_type": "code",
      "execution_count": 8,
      "metadata": {
        "colab": {
          "base_uri": "https://localhost:8080/"
        },
        "id": "o8yuMnFcm9hb",
        "outputId": "e564dfe9-6c0a-46c8-9f26-0aa03d3033ff"
      },
      "outputs": [
        {
          "output_type": "execute_result",
          "data": {
            "text/plain": [
              "0                                    我特别喜欢这首歌我现在12岁了基本每天都听\n",
              "1        最近孩子睡前的歌来自我的第一个追星偶像范晓萱小魔女时代的歌曲当时五六年级的我每一首歌词每一个...\n",
              "2        有多少人和我一样做什么事时脑子里是有默认音乐伴奏的比如一个人逛街就自动回响起林忆莲的站在这里...\n",
              "3                     室友洗澡太慢了我每次都是拿一个蓝牙音箱发门口发这个歌从此以后他洗澡好快的\n",
              "4                                   好好听我从小不爱洗澡听了这首歌我就爱上洗澡了\n",
              "                               ...                        \n",
              "31717                                     追凌追凌追凌听着听着姨母笑诶嘿嘿\n",
              "31718                                        发现了好家伙这变声器真不错\n",
              "31719                                         大班听的歌现在已经初一了\n",
              "31720                                  从光热大法来的这个坑是出不去了甜死我了\n",
              "31721                                              光热大旗永不倒\n",
              "Name: comment_clear, Length: 31722, dtype: object"
            ]
          },
          "metadata": {},
          "execution_count": 8
        }
      ],
      "source": [
        "pattern = r\"[!\\\"#$%&'()*+,-./:;<=>?@[\\\\\\]^_^{|}~—！，。？、￥…（）：【】《》‘’“”\\s]+\"\n",
        "re_obj = re.compile(pattern)\n",
        "\n",
        "\n",
        "def clear(text):\n",
        "    pattern = r\"[!\\\"#$%&'()*+,-./:;<=>?@[\\\\\\]^_^{|}~—！，。？、￥…（）：【】《》‘’“”\\s]+\"\n",
        "    re_obj = re.compile(pattern)\n",
        "\n",
        "    return re_obj.sub(\"\", text)\n",
        "\n",
        "\n",
        "def filter_ele(text):\n",
        "\n",
        "    pattern = re.compile(r'(\\[em\\])(.*)(\\[\\/em\\])')\n",
        "    return pattern.sub('', text)\n",
        "\n",
        "\n",
        "def re_emoji(text):\n",
        "    text = emoji.demojize(text)\n",
        "    result = re.sub(':\\S+?:', ' ', text)\n",
        "    return result\n",
        "\n",
        "\n",
        "def filter_str(text):\n",
        "    res = re.compile(\"[^\\\\u4e00-\\\\u9fa5^a-z^A-Z^0-9]\")\n",
        "    return res.sub('', text)\n",
        "\n",
        "\n",
        "def filter_emoji(text):\n",
        "    res = re.compile(u'[\\U00010000-\\U0010ffff\\\\uD800-\\\\uDBFF\\\\uDC00-\\\\uDFFF]')\n",
        "    return res.sub('', text)\n",
        "\n",
        "\n",
        "\n",
        "df['comment_clear'] = df['comment'].apply(filter_ele)\n",
        "\n",
        "# df['comment_clear'] = df['comment_clear'].apply(filter_emoji)\n",
        "df['comment_clear'] = df['comment_clear'].apply(re_emoji)\n",
        "df['comment_clear'] = df['comment_clear'].apply(clear)\n",
        "df['comment_clear'] = df['comment_clear'].apply(filter_str)\n",
        "\n",
        "df['comment_clear']"
      ]
    },
    {
      "cell_type": "code",
      "execution_count": 10,
      "metadata": {
        "scrolled": true,
        "colab": {
          "base_uri": "https://localhost:8080/"
        },
        "id": "3U-ulnIPm9hc",
        "outputId": "9268afe6-b17b-47ac-8958-b3acc7964f83"
      },
      "outputs": [
        {
          "output_type": "execute_result",
          "data": {
            "text/plain": [
              "0                       我 特别 喜欢 这 首歌 我 现在 12 岁 了 基本 每天 都 听\n",
              "1        最近 孩子 睡前 的 歌 来自 我 的 第一个 追星 偶像 范晓萱 小 魔女 时代 的 歌曲...\n",
              "2        有 多少 人 和 我 一样 做 什么 事时 脑子里 是 有 默认 音乐 伴奏 的 比如 一个...\n",
              "3        室友 洗澡 太慢 了 我 每次 都 是 拿 一个 蓝牙 音箱 发 门口 发 这个 歌 从此以...\n",
              "4                    好好 听 我 从小 不爱 洗澡 听 了 这 首歌 我 就 爱 上 洗澡 了\n",
              "                               ...                        \n",
              "31717                           追凌 追凌 追凌 听 着 听 着 姨母 笑 诶 嘿嘿\n",
              "31718                                  发现 了 好家伙 这 变声 器 真不错\n",
              "31719                                   大 班 听的歌 现在 已经 初一 了\n",
              "31720                     从 光热 大法 来 的 这个 坑 是 出不去 了 甜 死 我 了\n",
              "31721                                            光热 大旗 永不倒\n",
              "Name: comment_cut, Length: 31722, dtype: object"
            ]
          },
          "metadata": {},
          "execution_count": 10
        }
      ],
      "source": [
        "#stopword\n",
        "with open('stop_words.txt','r', encoding='utf-8') as f:\n",
        "    stopwords = f.readlines()\n",
        "    stopwords = list(map(lambda x: x.strip(), stopwords))\n",
        "\n",
        "def cut(text):\n",
        "    return ' '.join(list(jieba_fast.cut(text)))\n",
        "\n",
        "df['comment_cut'] = df['comment_clear'].apply(cut)\n",
        "df['comment_cut']"
      ]
    },
    {
      "cell_type": "markdown",
      "metadata": {
        "id": "2ySTojT_m9hc"
      },
      "source": [
        "### Train test split"
      ]
    },
    {
      "cell_type": "code",
      "execution_count": 11,
      "metadata": {
        "id": "MFgtn2h8m9hc"
      },
      "outputs": [],
      "source": [
        "from sklearn.model_selection import train_test_split\n",
        "X= df['comment_cut']\n",
        "y = df['tag']\n",
        "X_train, X_test, y_train, y_test = train_test_split(X, y, test_size=0.3, random_state=42)"
      ]
    },
    {
      "cell_type": "markdown",
      "metadata": {
        "id": "5zNVVrYwm9hc"
      },
      "source": [
        "### Naive Bayes"
      ]
    },
    {
      "cell_type": "code",
      "execution_count": 64,
      "metadata": {
        "id": "d_tqS87Mm9hc"
      },
      "outputs": [],
      "source": [
        "from sklearn.feature_extraction.text import CountVectorizer\n",
        "from sklearn.feature_extraction.text import TfidfVectorizer\n",
        "\n",
        "\n",
        "\n",
        "#bag of word\n",
        "\n",
        "vec = CountVectorizer(max_df = 0.8, \n",
        "                       min_df = 3, \n",
        "                       token_pattern=u'(?u)\\\\b[^\\\\d\\\\W]\\\\w+\\\\b',\n",
        "#                       max_features=5000\n",
        "                       )\n",
        "\n",
        "train_vec = pd.DataFrame(vec.fit_transform(X_train).toarray(), columns=vec.get_feature_names())\n",
        "# TF-IDF feature\n",
        "tfidf_vec = TfidfVectorizer(max_df=0.80, min_df=3)"
      ]
    },
    {
      "cell_type": "code",
      "execution_count": 65,
      "metadata": {
        "id": "ZV2KURoYm9hc",
        "outputId": "19e25f8d-22c4-4d34-e395-0c29aff1a424",
        "colab": {
          "base_uri": "https://localhost:8080/"
        }
      },
      "outputs": [
        {
          "output_type": "stream",
          "name": "stdout",
          "text": [
            "0.7906327403737897\n"
          ]
        }
      ],
      "source": [
        "from sklearn.naive_bayes import MultinomialNB\n",
        "from sklearn import preprocessing, decomposition, model_selection, metrics, pipeline\n",
        "\n",
        "from sklearn.model_selection import GridSearchCV\n",
        "\n",
        "NB = MultinomialNB(alpha=0.001)\n",
        "X_train_vec = vec.fit_transform(X_train)\n",
        "NB.fit(X_train_vec, y_train)\n",
        "train_acc = NB.score(X_train_vec, y_train)\n",
        "print(train_acc)"
      ]
    },
    {
      "cell_type": "code",
      "execution_count": 66,
      "metadata": {
        "id": "0TPvRA5Rm9hd",
        "outputId": "9667dba8-23d2-4878-b7c5-8eb093851a87",
        "colab": {
          "base_uri": "https://localhost:8080/"
        }
      },
      "outputs": [
        {
          "output_type": "execute_result",
          "data": {
            "text/plain": [
              "GridSearchCV(cv=5, estimator=Pipeline(steps=[('nb', MultinomialNB())]),\n",
              "             n_jobs=3,\n",
              "             param_grid={'nb__alpha': [0.001, 0.01, 0.1, 0.1, 0.5, 0.6, 1, 2,\n",
              "                                       5]})"
            ]
          },
          "metadata": {},
          "execution_count": 66
        }
      ],
      "source": [
        "nb_model = MultinomialNB()\n",
        "\n",
        "clf = pipeline.Pipeline([('nb', nb_model)])\n",
        "\n",
        "param_grid = {'nb__alpha': [0.001, 0.01, 0.1, 0.1, 0.5, 0.6, 1, 2, 5]}\n",
        "\n",
        "model = GridSearchCV(\n",
        "    estimator=clf,\n",
        "    param_grid=param_grid,\n",
        "    n_jobs=3,\n",
        "    refit=True,\n",
        "    cv=5)\n",
        "\n",
        "\n",
        "model.fit(X_train_vec, y_train)"
      ]
    },
    {
      "cell_type": "code",
      "execution_count": 67,
      "metadata": {
        "id": "H5P_R2cGm9hd",
        "outputId": "55960289-062d-4d38-a158-668ba9e892ba",
        "colab": {
          "base_uri": "https://localhost:8080/"
        }
      },
      "outputs": [
        {
          "output_type": "stream",
          "name": "stdout",
          "text": [
            "Best parameters :\n",
            "\tnb__alpha: 2\n"
          ]
        }
      ],
      "source": [
        "model.fit(X_train_vec, y_train)\n",
        "\n",
        "print(\"Best parameters :\")\n",
        "best_parameters = model.best_estimator_.get_params()\n",
        "\n",
        "for param_name in sorted(param_grid.keys()):\n",
        "    print(\"\\t%s: %r\" % (param_name, best_parameters[param_name]))\n"
      ]
    },
    {
      "cell_type": "code",
      "execution_count": 68,
      "metadata": {
        "scrolled": true,
        "id": "_LbjI4gUm9hd",
        "outputId": "cc2a06a3-36b3-42a5-ea90-7eb4856c2552",
        "colab": {
          "base_uri": "https://localhost:8080/"
        }
      },
      "outputs": [
        {
          "output_type": "stream",
          "name": "stdout",
          "text": [
            "              precision    recall  f1-score   support\n",
            "\n",
            "         neg       0.78      0.76      0.77     10189\n",
            "         pos       0.80      0.81      0.81     12016\n",
            "\n",
            "    accuracy                           0.79     22205\n",
            "   macro avg       0.79      0.79      0.79     22205\n",
            "weighted avg       0.79      0.79      0.79     22205\n",
            "\n"
          ]
        }
      ],
      "source": [
        "from sklearn.metrics import classification_report\n",
        "train_pre = NB.predict(X_train_vec)\n",
        "train_report  =classification_report(y_train, train_pre)\n",
        "print(train_report)"
      ]
    },
    {
      "cell_type": "code",
      "execution_count": 69,
      "metadata": {
        "id": "OH6E0AWLm9hd",
        "outputId": "b722a847-ae9f-44bd-9cf6-0ee0db118c89",
        "colab": {
          "base_uri": "https://localhost:8080/"
        }
      },
      "outputs": [
        {
          "output_type": "stream",
          "name": "stdout",
          "text": [
            "0.7028475359882316\n"
          ]
        }
      ],
      "source": [
        "X_test_vec = vec.transform(X_test)\n",
        "print(NB.score(X_test_vec, y_test))"
      ]
    },
    {
      "cell_type": "code",
      "execution_count": 70,
      "metadata": {
        "id": "usp-a4gVm9hd",
        "outputId": "bca1c9a0-166a-4aea-80bf-21c6c59545ad",
        "colab": {
          "base_uri": "https://localhost:8080/"
        }
      },
      "outputs": [
        {
          "output_type": "stream",
          "name": "stdout",
          "text": [
            "              precision    recall  f1-score   support\n",
            "\n",
            "         neg       0.68      0.67      0.67      4412\n",
            "         pos       0.72      0.74      0.73      5105\n",
            "\n",
            "    accuracy                           0.70      9517\n",
            "   macro avg       0.70      0.70      0.70      9517\n",
            "weighted avg       0.70      0.70      0.70      9517\n",
            "\n"
          ]
        }
      ],
      "source": [
        "test_pre = NB.predict(X_test_vec)\n",
        "test_report  =classification_report(y_test, test_pre)\n",
        "print(test_report)"
      ]
    },
    {
      "cell_type": "markdown",
      "metadata": {
        "id": "ejyybzuim9hd"
      },
      "source": [
        "# SVM"
      ]
    },
    {
      "cell_type": "code",
      "execution_count": 71,
      "metadata": {
        "id": "mYSVHJ4lm9hd"
      },
      "outputs": [],
      "source": [
        "\n",
        "from sklearn import svm\n",
        "from sklearn import metrics\n",
        "import numpy as np\n",
        "from sklearn.datasets import load_files\n",
        "from sklearn.feature_extraction.text import CountVectorizer,TfidfVectorizer\n",
        "from sklearn.feature_extraction.text import TfidfTransformer\n",
        "from sklearn.pipeline import Pipeline\n",
        "from sklearn.svm import LinearSVC\n",
        "from sklearn import metrics\n",
        "from sklearn.linear_model import LogisticRegression\n",
        "from sklearn.naive_bayes import MultinomialNB\n",
        "from sklearn.linear_model import SGDClassifier\n",
        "from sklearn.neighbors import KNeighborsClassifier\n",
        "from sklearn.ensemble import RandomForestClassifier\n"
      ]
    },
    {
      "cell_type": "code",
      "execution_count": 72,
      "metadata": {
        "id": "ora9ymnwm9he"
      },
      "outputs": [],
      "source": [
        "vec = CountVectorizer(max_df = 0.8, \n",
        "                       min_df = 3, \n",
        "                       token_pattern=u'(?u)\\\\b[^\\\\d\\\\W]\\\\w+\\\\b',\n",
        "#                       max_features=5000\n",
        "                       )"
      ]
    },
    {
      "cell_type": "code",
      "execution_count": 73,
      "metadata": {
        "id": "jyoE9qSlm9he"
      },
      "outputs": [],
      "source": [
        "pipeline = Pipeline([\n",
        "        ('vect', TfidfVectorizer(min_df=3, max_df=0.95)),\n",
        "        ('clf', LinearSVC(C=1000)),\n",
        "    ])"
      ]
    },
    {
      "cell_type": "code",
      "execution_count": 74,
      "metadata": {
        "id": "6dMak3UQm9he",
        "outputId": "5aa472c7-fdd8-4b03-b2df-2cf6464e94dc",
        "colab": {
          "base_uri": "https://localhost:8080/"
        }
      },
      "outputs": [
        {
          "output_type": "execute_result",
          "data": {
            "text/plain": [
              "{'vect__ngram_range': (1, 2)}"
            ]
          },
          "metadata": {},
          "execution_count": 74
        }
      ],
      "source": [
        "parameters = {\n",
        "        'vect__ngram_range': [(1, 1), (1, 2)],\n",
        "    }\n",
        "grid_search = GridSearchCV(pipeline, parameters, n_jobs=-1)\n",
        "tfidf_train_vec = tfidf_vec.fit(X_train)\n",
        "grid_search.fit(X_train, y_train)\n",
        "\n",
        "grid_search.best_params_"
      ]
    },
    {
      "cell_type": "code",
      "execution_count": 75,
      "metadata": {
        "id": "im9MoDoUm9he",
        "outputId": "cc37324e-67a9-4c97-ddbb-e0f21b5d2259",
        "colab": {
          "base_uri": "https://localhost:8080/"
        }
      },
      "outputs": [
        {
          "output_type": "execute_result",
          "data": {
            "text/plain": [
              "0.7928844854762441"
            ]
          },
          "metadata": {},
          "execution_count": 75
        }
      ],
      "source": [
        "from sklearn.linear_model import SGDClassifier\n",
        "from sklearn.pipeline import make_pipeline\n",
        "# from sklearn.externals import joblib\n",
        "tfidf_vectorizer = TfidfVectorizer(max_df=0.80, min_df=2)\n",
        "\n",
        "\n",
        "Svm = SGDClassifier(\n",
        "    penalty='l2',\n",
        "    alpha=0.0001,\n",
        "    l1_ratio=0.15,\n",
        "    fit_intercept=True,\n",
        "    max_iter=1000,\n",
        "    tol=0.001,\n",
        "    shuffle=True,\n",
        "    verbose=0,\n",
        "    epsilon=0.1,\n",
        ")\n",
        "pipe = make_pipeline(tfidf_vectorizer, Svm)\n",
        "pipe.fit(X_train, y_train)\n",
        "pipe.score(X_train, y_train)  # SVM accuracy"
      ]
    },
    {
      "cell_type": "code",
      "execution_count": 76,
      "metadata": {
        "id": "JA-Pegkhm9he",
        "outputId": "5e00f6cb-6b60-49d1-daa3-21d793cdbd71",
        "colab": {
          "base_uri": "https://localhost:8080/"
        }
      },
      "outputs": [
        {
          "output_type": "stream",
          "name": "stdout",
          "text": [
            "0.7928844854762441\n",
            "              precision    recall  f1-score   support\n",
            "\n",
            "         neg       0.82      0.71      0.76     10189\n",
            "         pos       0.78      0.87      0.82     12016\n",
            "\n",
            "    accuracy                           0.79     22205\n",
            "   macro avg       0.80      0.79      0.79     22205\n",
            "weighted avg       0.80      0.79      0.79     22205\n",
            "\n"
          ]
        }
      ],
      "source": [
        "\n",
        "train_pre = pipe.predict(X_train)\n",
        "c_report = classification_report(y_train, train_pre)\n",
        "\n",
        "print(pipe.score(X_train, y_train))\n",
        "print(c_report)"
      ]
    },
    {
      "cell_type": "code",
      "execution_count": 77,
      "metadata": {
        "scrolled": true,
        "id": "qDOGPNG2m9he",
        "outputId": "519b2b5b-d535-4c39-862b-963005bcb289",
        "colab": {
          "base_uri": "https://localhost:8080/"
        }
      },
      "outputs": [
        {
          "output_type": "stream",
          "name": "stdout",
          "text": [
            "0.697488704423663\n",
            "              precision    recall  f1-score   support\n",
            "\n",
            "         neg       0.71      0.59      0.64      4412\n",
            "         pos       0.69      0.79      0.74      5105\n",
            "\n",
            "    accuracy                           0.70      9517\n",
            "   macro avg       0.70      0.69      0.69      9517\n",
            "weighted avg       0.70      0.70      0.69      9517\n",
            "\n"
          ]
        }
      ],
      "source": [
        "\n",
        "test_pre = pipe.predict(X_test)\n",
        "c_report = classification_report(y_test, test_pre)\n",
        "\n",
        "print(pipe.score(X_test, y_test))\n",
        "print(c_report)"
      ]
    },
    {
      "cell_type": "markdown",
      "metadata": {
        "id": "F-FY_dSQm9he"
      },
      "source": [
        "# Logistic Regression  Classifier"
      ]
    },
    {
      "cell_type": "code",
      "execution_count": 78,
      "metadata": {
        "id": "vGsVBm8fm9he",
        "outputId": "7a8fdcc3-c9b1-4fbb-841c-eaf9b9517a9b",
        "colab": {
          "base_uri": "https://localhost:8080/"
        }
      },
      "outputs": [
        {
          "output_type": "execute_result",
          "data": {
            "text/plain": [
              "0.8069804098176087"
            ]
          },
          "metadata": {},
          "execution_count": 78
        }
      ],
      "source": [
        "# Logistic Regression Classifier\n",
        "tfidf_vectorizer = TfidfVectorizer(max_df=0.80, min_df=2)\n",
        "\n",
        "Lr = LogisticRegression(C=1.0,)\n",
        "\n",
        "pipe = make_pipeline(tfidf_vectorizer, Lr)\n",
        "pipe.fit(X_train, y_train)\n",
        "pipe.score(X_train, y_train)  # LR accuracy"
      ]
    },
    {
      "cell_type": "code",
      "execution_count": 79,
      "metadata": {
        "id": "OBmf2DNtm9hf",
        "outputId": "24120441-e82f-43a6-99bd-213a9475ec68",
        "colab": {
          "base_uri": "https://localhost:8080/"
        }
      },
      "outputs": [
        {
          "output_type": "stream",
          "name": "stdout",
          "text": [
            "0.8069804098176087\n",
            "              precision    recall  f1-score   support\n",
            "\n",
            "         neg       0.82      0.74      0.78     10189\n",
            "         pos       0.80      0.86      0.83     12016\n",
            "\n",
            "    accuracy                           0.81     22205\n",
            "   macro avg       0.81      0.80      0.80     22205\n",
            "weighted avg       0.81      0.81      0.81     22205\n",
            "\n"
          ]
        }
      ],
      "source": [
        "train_pre = pipe.predict(X_train)\n",
        "c_report = classification_report(y_train, train_pre)\n",
        "\n",
        "print(pipe.score(X_train, y_train))\n",
        "print(c_report)"
      ]
    },
    {
      "cell_type": "code",
      "execution_count": 80,
      "metadata": {
        "id": "EacI82WSm9hf",
        "outputId": "a9dbe20a-3da6-48d7-f571-b75007299a6d",
        "colab": {
          "base_uri": "https://localhost:8080/"
        }
      },
      "outputs": [
        {
          "output_type": "stream",
          "name": "stdout",
          "text": [
            "0.701061258800042\n",
            "              precision    recall  f1-score   support\n",
            "\n",
            "         neg       0.70      0.62      0.66      4412\n",
            "         pos       0.70      0.77      0.74      5105\n",
            "\n",
            "    accuracy                           0.70      9517\n",
            "   macro avg       0.70      0.70      0.70      9517\n",
            "weighted avg       0.70      0.70      0.70      9517\n",
            "\n"
          ]
        }
      ],
      "source": [
        "test_pre = pipe.predict(X_test)\n",
        "c_report = classification_report(y_test, test_pre)\n",
        "\n",
        "print(pipe.score(X_test, y_test))\n",
        "print(c_report)"
      ]
    },
    {
      "cell_type": "markdown",
      "metadata": {
        "id": "7NhUoXoEm9hf"
      },
      "source": [
        "# Random Forest Classifier \n"
      ]
    },
    {
      "cell_type": "code",
      "execution_count": 81,
      "metadata": {
        "id": "FSmvNJb-m9hf",
        "outputId": "ff031bd5-623e-4606-ca22-759b3fc4772a",
        "colab": {
          "base_uri": "https://localhost:8080/"
        }
      },
      "outputs": [
        {
          "output_type": "execute_result",
          "data": {
            "text/plain": [
              "0.9876604368385499"
            ]
          },
          "metadata": {},
          "execution_count": 81
        }
      ],
      "source": [
        "# Random Forest Classifier --- gini index\n",
        "tfidf_vectorizer = TfidfVectorizer(max_df=0.80, min_df=2)\n",
        "Rf = RandomForestClassifier(\n",
        "    n_estimators=100,\n",
        "    criterion='gini',\n",
        "    min_samples_split=2,\n",
        "    min_samples_leaf=1,\n",
        "    min_weight_fraction_leaf=0.0,\n",
        "    max_features='auto',\n",
        "    min_impurity_decrease=0.0,\n",
        ")\n",
        "\n",
        "# Lr = LogisticRegression(C=1.0,)\n",
        "\n",
        "pipe = make_pipeline(tfidf_vectorizer, Rf)\n",
        "pipe.fit(X_train, y_train)\n",
        "pipe.score(X_train, y_train)  # RF accuracy"
      ]
    },
    {
      "cell_type": "code",
      "execution_count": 82,
      "metadata": {
        "id": "s90U2U-Mm9hf",
        "outputId": "5f4837af-548c-4070-f96b-8755640ff2ea",
        "colab": {
          "base_uri": "https://localhost:8080/"
        }
      },
      "outputs": [
        {
          "output_type": "stream",
          "name": "stdout",
          "text": [
            "0.9876604368385499\n",
            "              precision    recall  f1-score   support\n",
            "\n",
            "         neg       0.99      0.98      0.99     10189\n",
            "         pos       0.99      0.99      0.99     12016\n",
            "\n",
            "    accuracy                           0.99     22205\n",
            "   macro avg       0.99      0.99      0.99     22205\n",
            "weighted avg       0.99      0.99      0.99     22205\n",
            "\n"
          ]
        }
      ],
      "source": [
        "#train\n",
        "train_pre = pipe.predict(X_train)\n",
        "c_report = classification_report(y_train, train_pre)\n",
        "\n",
        "print(pipe.score(X_train, y_train))\n",
        "print(c_report)"
      ]
    },
    {
      "cell_type": "code",
      "execution_count": 83,
      "metadata": {
        "id": "39aEweUVm9hf",
        "outputId": "63abdc1d-bf2f-4f37-d385-d4cdb333e52b",
        "colab": {
          "base_uri": "https://localhost:8080/"
        }
      },
      "outputs": [
        {
          "output_type": "stream",
          "name": "stdout",
          "text": [
            "0.678575181254597\n",
            "              precision    recall  f1-score   support\n",
            "\n",
            "         neg       0.66      0.62      0.64      4412\n",
            "         pos       0.69      0.73      0.71      5105\n",
            "\n",
            "    accuracy                           0.68      9517\n",
            "   macro avg       0.68      0.67      0.68      9517\n",
            "weighted avg       0.68      0.68      0.68      9517\n",
            "\n"
          ]
        }
      ],
      "source": [
        "#test\n",
        "test_pre = pipe.predict(X_test)\n",
        "c_report = classification_report(y_test, test_pre)\n",
        "\n",
        "print(pipe.score(X_test, y_test))\n",
        "print(c_report) # Rf Performs really good on train, but not so good on test. Overfitting."
      ]
    },
    {
      "cell_type": "code",
      "execution_count": 84,
      "metadata": {
        "id": "RTYF2Gphm9hf",
        "outputId": "042d9a7e-53a7-4af7-f0f0-cd1587360a47",
        "colab": {
          "base_uri": "https://localhost:8080/"
        }
      },
      "outputs": [
        {
          "output_type": "execute_result",
          "data": {
            "text/plain": [
              "0.9876604368385499"
            ]
          },
          "metadata": {},
          "execution_count": 84
        }
      ],
      "source": [
        "# Random Forest Classifier --- entropy\n",
        "tfidf_vectorizer = TfidfVectorizer(max_df=0.80, min_df=2)\n",
        "Rf = RandomForestClassifier(\n",
        "    n_estimators=100,\n",
        "    criterion='entropy',\n",
        "    min_samples_split=2,\n",
        "    min_samples_leaf=1,\n",
        "    min_weight_fraction_leaf=0.0,\n",
        "    max_features='auto',\n",
        "    min_impurity_decrease=0.0,\n",
        ")\n",
        "\n",
        "# Lr = LogisticRegression(C=1.0,)\n",
        "\n",
        "pipe = make_pipeline(tfidf_vectorizer, Rf)\n",
        "pipe.fit(X_train, y_train)\n",
        "pipe.score(X_train, y_train)  # RF accuracy\n",
        "\n",
        "\n"
      ]
    },
    {
      "cell_type": "code",
      "execution_count": 85,
      "metadata": {
        "id": "qv5piNhQm9hf",
        "outputId": "f0009661-9b02-4a0d-dd03-66136f2c41ff",
        "colab": {
          "base_uri": "https://localhost:8080/"
        }
      },
      "outputs": [
        {
          "output_type": "stream",
          "name": "stdout",
          "text": [
            "0.9876604368385499\n",
            "              precision    recall  f1-score   support\n",
            "\n",
            "         neg       0.99      0.98      0.99     10189\n",
            "         pos       0.99      0.99      0.99     12016\n",
            "\n",
            "    accuracy                           0.99     22205\n",
            "   macro avg       0.99      0.99      0.99     22205\n",
            "weighted avg       0.99      0.99      0.99     22205\n",
            "\n"
          ]
        }
      ],
      "source": [
        "#train\n",
        "train_pre = pipe.predict(X_train)\n",
        "c_report = classification_report(y_train, train_pre)\n",
        "\n",
        "print(pipe.score(X_train, y_train))\n",
        "print(c_report)"
      ]
    },
    {
      "cell_type": "code",
      "execution_count": 86,
      "metadata": {
        "scrolled": false,
        "id": "d3RTM4V1m9hg",
        "outputId": "e841a3ee-93a5-4646-fbc6-7f12dddd2445",
        "colab": {
          "base_uri": "https://localhost:8080/"
        }
      },
      "outputs": [
        {
          "output_type": "stream",
          "name": "stdout",
          "text": [
            "0.6872964169381107\n",
            "              precision    recall  f1-score   support\n",
            "\n",
            "         neg       0.68      0.62      0.65      4412\n",
            "         pos       0.69      0.74      0.72      5105\n",
            "\n",
            "    accuracy                           0.69      9517\n",
            "   macro avg       0.69      0.68      0.68      9517\n",
            "weighted avg       0.69      0.69      0.69      9517\n",
            "\n"
          ]
        }
      ],
      "source": [
        "#test\n",
        "test_pre = pipe.predict(X_test)\n",
        "c_report = classification_report(y_test, test_pre)\n",
        "\n",
        "print(pipe.score(X_test, y_test))\n",
        "print(c_report) "
      ]
    },
    {
      "cell_type": "markdown",
      "metadata": {
        "id": "w4m34FzWm9hg"
      },
      "source": [
        "# LSTM\n"
      ]
    },
    {
      "cell_type": "code",
      "execution_count": 88,
      "metadata": {
        "id": "_00m3G9Rm9hg"
      },
      "outputs": [],
      "source": [
        "#preprocessed\n",
        "df_csv = pd.DataFrame(df['comment_clear'])\n",
        "df_csv['label'] = df['tag'].apply(lambda x: 1 if x=='pos' else 0)\n",
        "df_csv.to_csv('data.csv',index=False,encoding='utf_8_sig')\n",
        "\n",
        "#unpreprocessed\n",
        "df_csv = pd.DataFrame(df['comment'])\n",
        "df_csv['label'] = df['tag'].apply(lambda x: 1 if x=='pos' else 0)\n",
        "df_csv.to_csv('raw_data.csv',index=False,encoding='utf_8_sig')\n",
        "\n",
        "\n"
      ]
    },
    {
      "cell_type": "code",
      "execution_count": null,
      "metadata": {
        "id": "MEAk20jdm9hg",
        "outputId": "cf5d23f2-fa67-42db-d3f2-36593fdddcc3"
      },
      "outputs": [
        {
          "name": "stdout",
          "output_type": "stream",
          "text": [
            "Model: \"sequential_1\"\n",
            "_________________________________________________________________\n",
            "Layer (type)                 Output Shape              Param #   \n",
            "=================================================================\n",
            "embedding_1 (Embedding)      (None, 300, 20)           109100    \n",
            "_________________________________________________________________\n",
            "lstm_1 (LSTM)                (None, 100)               48400     \n",
            "_________________________________________________________________\n",
            "dropout_1 (Dropout)          (None, 100)               0         \n",
            "_________________________________________________________________\n",
            "dense_1 (Dense)              (None, 2)                 202       \n",
            "=================================================================\n",
            "Total params: 157,702\n",
            "Trainable params: 157,702\n",
            "Non-trainable params: 0\n",
            "_________________________________________________________________\n",
            "Epoch 1/5\n",
            "22205/22205 [==============================] - 229s 10ms/step - loss: 0.6481 - accuracy: 0.6242\n",
            "Epoch 2/5\n",
            "22205/22205 [==============================] - 238s 11ms/step - loss: 0.5924 - accuracy: 0.6887\n",
            "Epoch 3/5\n",
            "22205/22205 [==============================] - 243s 11ms/step - loss: 0.5638 - accuracy: 0.7123\n",
            "Epoch 4/5\n",
            "22205/22205 [==============================] - 248s 11ms/step - loss: 0.5403 - accuracy: 0.7295\n",
            "Epoch 5/5\n",
            "22205/22205 [==============================] - 302s 14ms/step - loss: 0.5273 - accuracy: 0.7387\n",
            "训练集上的准确率为: 0.7671245215041658.\n",
            "              precision    recall  f1-score   support\n",
            "\n",
            "           0       0.75      0.74      0.74     10189\n",
            "           1       0.78      0.79      0.79     12016\n",
            "\n",
            "    accuracy                           0.77     22205\n",
            "   macro avg       0.77      0.77      0.77     22205\n",
            "weighted avg       0.77      0.77      0.77     22205\n",
            "\n",
            "测试集上的准确率为: 0.668803194283913.\n",
            "              precision    recall  f1-score   support\n",
            "\n",
            "           0       0.65      0.62      0.64      4412\n",
            "           1       0.68      0.71      0.70      5105\n",
            "\n",
            "    accuracy                           0.67      9517\n",
            "   macro avg       0.67      0.67      0.67      9517\n",
            "weighted avg       0.67      0.67      0.67      9517\n",
            "\n"
          ]
        }
      ],
      "source": [
        "import pickle\n",
        "from keras.models import load_model\n",
        "\n",
        "import numpy as np\n",
        "import pandas as pd\n",
        "from keras.layers import LSTM, Dense, Embedding, Dropout\n",
        "from keras.models import Sequential\n",
        "from keras.preprocessing.sequence import pad_sequences\n",
        "from keras.utils import np_utils, plot_model\n",
        "from sklearn.metrics import accuracy_score,classification_report\n",
        "from sklearn.model_selection import train_test_split\n",
        "\n",
        "\n",
        "# load data\n",
        "def load_data(filepath, input_shape=20):\n",
        "    df = pd.read_csv(filepath, encoding='utf_8_sig')\n",
        "    ck1 =  df.columns[0]\n",
        "    df[ck1] = df[ck1].apply(lambda x:str(x))\n",
        "\n",
        "    labels, vocabulary = list(df['label'].unique()), list(df[ck1].unique())\n",
        "\n",
        "\n",
        "    string = ''\n",
        "    for word in vocabulary:\n",
        "        string += str(word)\n",
        "\n",
        "    vocabulary = set(string)\n",
        "\n",
        "\n",
        "    word_dictionary = {word: i + 1 for i, word in enumerate(vocabulary)}\n",
        "    with open('word_dict.pk', 'wb') as f:\n",
        "        pickle.dump(word_dictionary, f)\n",
        "    inverse_word_dictionary = {i + 1: word for i, word in enumerate(vocabulary)}\n",
        "    label_dictionary = {label: i for i, label in enumerate(labels)}\n",
        "    with open('label_dict.pk', 'wb') as f:\n",
        "        pickle.dump(label_dictionary, f)\n",
        "    output_dictionary = {i: labels for i, labels in enumerate(labels)}\n",
        "\n",
        "    vocab_size = len(word_dictionary.keys())  \n",
        "    label_size = len(label_dictionary.keys())  \n",
        "\n",
        "\n",
        "    x = [[word_dictionary[word] for word in sent] for sent in df[ck1]]\n",
        "    x = pad_sequences(maxlen=input_shape, sequences=x, padding='post', value=0)\n",
        "    y = [[label_dictionary[sent]] for sent in df['label']]\n",
        "    y = [np_utils.to_categorical(label, num_classes=label_size) for label in y]\n",
        "    y = np.array([list(_[0]) for _ in y])\n",
        "\n",
        "    return x, y, output_dictionary, vocab_size, label_size, inverse_word_dictionary\n",
        "\n",
        "\n",
        "\n",
        "def create_LSTM(n_units, input_shape, output_dim, filepath):\n",
        "    x, y, output_dictionary, vocab_size, label_size, inverse_word_dictionary = load_data(filepath)\n",
        "    model = Sequential()\n",
        "    model.add(Embedding(input_dim=vocab_size + 1, output_dim=output_dim,\n",
        "                        input_length=input_shape, mask_zero=True))\n",
        "    model.add(LSTM(n_units, input_shape=(x.shape[0], x.shape[1])))\n",
        "    model.add(Dropout(0.2))\n",
        "    model.add(Dense(label_size, activation='softmax'))\n",
        "    model.compile(loss='categorical_crossentropy', optimizer='adam', metrics=['accuracy'])\n",
        "\n",
        "    plot_model(model, to_file='./model_lstm.png', show_shapes=True)\n",
        "    model.summary()\n",
        "\n",
        "    return model\n",
        "\n",
        "\n",
        "def model_train(input_shape, filepath, model_save_path):\n",
        "    x, y, output_dictionary, vocab_size, label_size, inverse_word_dictionary = load_data(filepath, input_shape)\n",
        "    train_x, test_x, train_y, test_y = train_test_split(x, y, test_size=0.3, random_state=42)\n",
        "\n",
        "    n_units = 100\n",
        "    batch_size = 32\n",
        "    epochs = 5\n",
        "    output_dim = 20\n",
        "\n",
        "\n",
        "    lstm_model = create_LSTM(n_units, input_shape, output_dim, filepath)\n",
        "    lstm_model.fit(train_x, train_y, epochs=epochs, batch_size=batch_size, verbose=1)\n",
        "\n",
        "\n",
        "    lstm_model.save(model_save_path)\n",
        "    # lstm_model = load_model(model_save_path)\n",
        "    N = train_x.shape[0]  \n",
        "    predict = []\n",
        "    label = []\n",
        "    for start, end in zip(range(0, N, 1), range(1, N + 1, 1)):\n",
        "        sentence = [inverse_word_dictionary[i] for i in train_x[start] if i != 0]\n",
        "        y_predict = lstm_model.predict(train_x[start:end])\n",
        "        label_predict = output_dictionary[np.argmax(y_predict[0])]\n",
        "        label_true = output_dictionary[np.argmax(train_y[start:end])]\n",
        "        # print(''.join(sentence), label_true, label_predict)  \n",
        "        predict.append(label_predict)\n",
        "        label.append(label_true)\n",
        "\n",
        "    acc = accuracy_score(label, predict)  \n",
        "    print('训练集上的准确率为: %s.' % acc)\n",
        "    print(classification_report(label, predict))\n",
        "\n",
        "    N = test_x.shape[0]  \n",
        "    predict = []\n",
        "    label = []\n",
        "    for start, end in zip(range(0, N, 1), range(1, N + 1, 1)):\n",
        "        sentence = [inverse_word_dictionary[i] for i in test_x[start] if i != 0]\n",
        "        y_predict = lstm_model.predict(test_x[start:end])\n",
        "        label_predict = output_dictionary[np.argmax(y_predict[0])]\n",
        "        label_true = output_dictionary[np.argmax(test_y[start:end])]\n",
        "        # print(''.join(sentence), label_true, label_predict)  \n",
        "        predict.append(label_predict)\n",
        "        label.append(label_true)\n",
        "\n",
        "    acc = accuracy_score(label,predict)  \n",
        "    print('测试集上的准确率为: %s.' % acc)\n",
        "    print(classification_report(label,predict))\n",
        "\n",
        "\n",
        "if __name__ == '__main__':\n",
        "    filepath = './raw_data.csv'\n",
        "    input_shape = 300\n",
        "    model_save_path = './raw_data_model_300.h5'\n",
        "    model_train(input_shape, filepath, model_save_path)\n",
        "    # lstm_model = load_model(model_save_path)\n",
        "#"
      ]
    },
    {
      "cell_type": "code",
      "execution_count": null,
      "metadata": {
        "id": "2g6bqP2Jm9hh",
        "outputId": "63035b81-ac37-4ebe-f802-65f834dd0426"
      },
      "outputs": [
        {
          "name": "stdout",
          "output_type": "stream",
          "text": [
            "Model: \"sequential_2\"\n",
            "_________________________________________________________________\n",
            "Layer (type)                 Output Shape              Param #   \n",
            "=================================================================\n",
            "embedding_2 (Embedding)      (None, 300, 20)           109100    \n",
            "_________________________________________________________________\n",
            "lstm_2 (LSTM)                (None, 100)               48400     \n",
            "_________________________________________________________________\n",
            "dropout_2 (Dropout)          (None, 100)               0         \n",
            "_________________________________________________________________\n",
            "dense_2 (Dense)              (None, 2)                 202       \n",
            "=================================================================\n",
            "Total params: 157,702\n",
            "Trainable params: 157,702\n",
            "Non-trainable params: 0\n",
            "_________________________________________________________________\n",
            "Epoch 1/5\n",
            "22205/22205 [==============================] - 258s 12ms/step - loss: 0.6516 - accuracy: 0.6227\n",
            "Epoch 2/5\n",
            "22205/22205 [==============================] - 277s 12ms/step - loss: 0.5997 - accuracy: 0.6846\n",
            "Epoch 3/5\n",
            "22205/22205 [==============================] - 258s 12ms/step - loss: 0.5700 - accuracy: 0.7082\n",
            "Epoch 4/5\n",
            "22205/22205 [==============================] - 274s 12ms/step - loss: 0.5531 - accuracy: 0.7213\n",
            "Epoch 5/5\n",
            "22205/22205 [==============================] - 256s 12ms/step - loss: 0.5244 - accuracy: 0.7397\n",
            "训练集上的准确率为: 0.7668543120918712.\n",
            "              precision    recall  f1-score   support\n",
            "\n",
            "           0       0.73      0.77      0.75     10189\n",
            "           1       0.80      0.76      0.78     12016\n",
            "\n",
            "    accuracy                           0.77     22205\n",
            "   macro avg       0.77      0.77      0.77     22205\n",
            "weighted avg       0.77      0.77      0.77     22205\n",
            "\n",
            "测试集上的准确率为: 0.6697488704423663.\n",
            "              precision    recall  f1-score   support\n",
            "\n",
            "           0       0.64      0.65      0.65      4412\n",
            "           1       0.70      0.68      0.69      5105\n",
            "\n",
            "    accuracy                           0.67      9517\n",
            "   macro avg       0.67      0.67      0.67      9517\n",
            "weighted avg       0.67      0.67      0.67      9517\n",
            "\n"
          ]
        }
      ],
      "source": [
        "\n",
        "\n",
        "import pickle\n",
        "from keras.models import load_model\n",
        "\n",
        "import numpy as np\n",
        "import pandas as pd\n",
        "from keras.layers import LSTM, Dense, Embedding, Dropout\n",
        "from keras.models import Sequential\n",
        "from keras.preprocessing.sequence import pad_sequences\n",
        "from keras.utils import np_utils, plot_model\n",
        "from sklearn.metrics import accuracy_score,classification_report\n",
        "from sklearn.model_selection import train_test_split\n",
        "\n",
        "\n",
        "\n",
        "def load_data(filepath, input_shape=20):\n",
        "    df = pd.read_csv(filepath, encoding='utf_8_sig')\n",
        "    ck1 =  df.columns[0]\n",
        "    df[ck1] = df[ck1].apply(lambda x:str(x))\n",
        "\n",
        "    labels, vocabulary = list(df['label'].unique()), list(df[ck1].unique())\n",
        "\n",
        "\n",
        "    string = ''\n",
        "    for word in vocabulary:\n",
        "        string += str(word)\n",
        "\n",
        "    vocabulary = set(string)\n",
        "\n",
        "\n",
        "    word_dictionary = {word: i + 1 for i, word in enumerate(vocabulary)}\n",
        "    with open('word_dict.pk', 'wb') as f:\n",
        "        pickle.dump(word_dictionary, f)\n",
        "    inverse_word_dictionary = {i + 1: word for i, word in enumerate(vocabulary)}\n",
        "    label_dictionary = {label: i for i, label in enumerate(labels)}\n",
        "    with open('label_dict.pk', 'wb') as f:\n",
        "        pickle.dump(label_dictionary, f)\n",
        "    output_dictionary = {i: labels for i, labels in enumerate(labels)}\n",
        "\n",
        "    vocab_size = len(word_dictionary.keys())  \n",
        "    label_size = len(label_dictionary.keys())  \n",
        "\n",
        "\n",
        "    x = [[word_dictionary[word] for word in sent] for sent in df[ck1]]\n",
        "    x = pad_sequences(maxlen=input_shape, sequences=x, padding='post', value=0)\n",
        "    y = [[label_dictionary[sent]] for sent in df['label']]\n",
        "    y = [np_utils.to_categorical(label, num_classes=label_size) for label in y]\n",
        "    y = np.array([list(_[0]) for _ in y])\n",
        "\n",
        "    return x, y, output_dictionary, vocab_size, label_size, inverse_word_dictionary\n",
        "\n",
        "\n",
        "\n",
        "\n",
        "def create_LSTM(n_units, input_shape, output_dim, filepath):\n",
        "    x, y, output_dictionary, vocab_size, label_size, inverse_word_dictionary = load_data(filepath)\n",
        "    model = Sequential()\n",
        "    model.add(Embedding(input_dim=vocab_size + 1, output_dim=output_dim,\n",
        "                        input_length=input_shape, mask_zero=True))\n",
        "    model.add(LSTM(n_units, input_shape=(x.shape[0], x.shape[1])))\n",
        "    model.add(Dropout(0.2))\n",
        "    model.add(Dense(label_size, activation='softmax'))\n",
        "    model.compile(loss='categorical_crossentropy', optimizer='adam', metrics=['accuracy'])\n",
        "\n",
        "    plot_model(model, to_file='./model_lstm.png', show_shapes=True)\n",
        "    model.summary()\n",
        "\n",
        "    return model\n",
        "\n",
        "\n",
        "def model_train(input_shape, filepath, model_save_path):\n",
        "\n",
        "    x, y, output_dictionary, vocab_size, label_size, inverse_word_dictionary = load_data(filepath, input_shape)\n",
        "    train_x, test_x, train_y, test_y = train_test_split(x, y, test_size=0.3, random_state=42)\n",
        "\n",
        "\n",
        "    n_units = 100\n",
        "    batch_size = 32\n",
        "    epochs = 5\n",
        "    output_dim = 20\n",
        "\n",
        "\n",
        "    lstm_model = create_LSTM(n_units, input_shape, output_dim, filepath)\n",
        "    lstm_model.fit(train_x, train_y, epochs=epochs, batch_size=batch_size, verbose=1)\n",
        "\n",
        "\n",
        "    lstm_model.save(model_save_path)\n",
        "    # lstm_model = load_model(model_save_path)\n",
        "    N = train_x.shape[0]  \n",
        "    predict = []\n",
        "    label = []\n",
        "    for start, end in zip(range(0, N, 1), range(1, N + 1, 1)):\n",
        "        sentence = [inverse_word_dictionary[i] for i in train_x[start] if i != 0]\n",
        "        y_predict = lstm_model.predict(train_x[start:end])\n",
        "        label_predict = output_dictionary[np.argmax(y_predict[0])]\n",
        "        label_true = output_dictionary[np.argmax(train_y[start:end])]\n",
        "        # print(''.join(sentence), label_true, label_predict)  \n",
        "        predict.append(label_predict)\n",
        "        label.append(label_true)\n",
        "\n",
        "    acc = accuracy_score(label, predict)  \n",
        "    print('训练集上的准确率为: %s.' % acc)\n",
        "    print(classification_report(label, predict))\n",
        "\n",
        "    N = test_x.shape[0]  \n",
        "    predict = []\n",
        "    label = []\n",
        "    for start, end in zip(range(0, N, 1), range(1, N + 1, 1)):\n",
        "        sentence = [inverse_word_dictionary[i] for i in test_x[start] if i != 0]\n",
        "        y_predict = lstm_model.predict(test_x[start:end])\n",
        "        label_predict = output_dictionary[np.argmax(y_predict[0])]\n",
        "        label_true = output_dictionary[np.argmax(test_y[start:end])]\n",
        "        # print(''.join(sentence), label_true, label_predict)  \n",
        "        predict.append(label_predict)\n",
        "        label.append(label_true)\n",
        "\n",
        "    acc = accuracy_score(label,predict)\n",
        "    print('测试集上的准确率为: %s.' % acc)\n",
        "    print(classification_report(label,predict))\n",
        "\n",
        "\n",
        "if __name__ == '__main__':\n",
        "    filepath = './raw_data.csv'\n",
        "    input_shape = 300\n",
        "    model_save_path = './data_model_300.h5'\n",
        "    model_train(input_shape, filepath, model_save_path)\n",
        "    # lstm_model = load_model(model_save_path)\n",
        "#"
      ]
    }
  ],
  "metadata": {
    "kernelspec": {
      "display_name": "Python [conda env:tensor_env]",
      "language": "python",
      "name": "conda-env-tensor_env-py"
    },
    "language_info": {
      "codemirror_mode": {
        "name": "ipython",
        "version": 3
      },
      "file_extension": ".py",
      "mimetype": "text/x-python",
      "name": "python",
      "nbconvert_exporter": "python",
      "pygments_lexer": "ipython3",
      "version": "3.7.7"
    },
    "colab": {
      "name": "music_reviews.ipynb",
      "provenance": [],
      "collapsed_sections": []
    }
  },
  "nbformat": 4,
  "nbformat_minor": 0
}